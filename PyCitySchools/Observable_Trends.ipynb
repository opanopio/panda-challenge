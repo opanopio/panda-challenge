{
 "cells": [
  {
   "cell_type": "markdown",
   "metadata": {},
   "source": [
    "# Observable Trends\n",
    "- Though spending per student were high at larger schools, the schools with smaller populations and less spending per student still out performed them significantly.\n",
    "- Overall, charter schools are best performing institutions in the district in both academic performance and budget efficiency.  "
   ]
  }
 ],
 "metadata": {
  "language_info": {
   "name": "python"
  },
  "orig_nbformat": 4
 },
 "nbformat": 4,
 "nbformat_minor": 2
}
